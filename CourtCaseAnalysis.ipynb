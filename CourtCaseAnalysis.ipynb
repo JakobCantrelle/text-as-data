{
 "cells": [
  {
   "cell_type": "markdown",
   "id": "1566756d-622c-423f-90d8-f7d7af9ee162",
   "metadata": {},
   "source": [
    "Looking at legal documents is always funny to me. I love seeing the precise, exact language that they use in all of the documents. It sounds like a robot wrote it, nothing that a human could possibly make.\n",
    "\n",
    "That got me wondering, how exact IS the language? They must use the same 20 words over 80% of the time. Words like court, state, plaintiff, all staples in this type of language.\n",
    "\n",
    "The good news is we live in the world of the internet and python, and python libraries. Meaning that actually pulling the data and looking through hundreds of court cases is not only possible, it is pretty easy."
   ]
  },
  {
   "cell_type": "markdown",
   "id": "343510c8-bdfc-48b7-972f-737a544aedc8",
   "metadata": {},
   "source": [
    "The process of this is pretty simply. The first step is to actually get the court cases. The main place I will be getting my cases from is google scholar. They have a court case searching page for federal and state courts. I will be focusing on federal courts for this, but it is entirely possible to do state courts as well.\n",
    "\n",
    "To get the court cases, we will set up a python script to do a few things. It will search google scholar for court cases based off a random term you provice, or a name. It will then grab these cases as an HTML file, and scrap out all the HTML garbage we don't need, and just give us the juicy text. Let's begin:"
   ]
  },
  {
   "cell_type": "code",
   "execution_count": 1,
   "id": "c4ff3dce-ec72-4c91-9b79-3df98bcf55f5",
   "metadata": {},
   "outputs": [],
   "source": [
    "# A few imports wil be needed for this.\n",
    "\n",
    "\n",
    "\n",
    "# OS is great for saving files in your computer, which I will be doing with these cases.\n",
    "import os\n",
    "\n",
    "# Requests is how python communicates with google scholar and gets the HTML pages.\n",
    "import requests\n",
    "\n",
    "# Re is for regex, which is needed to remove all the punctuation and other garbage\n",
    "import re\n",
    "\n",
    "# Textmining, because it can make a DTM very easily, dead simply in fact.\n",
    "import textmining\n",
    "\n",
    "# Beautifulsoup takes an HTML page and returns only the text, none of the HTML trash.\n",
    "from bs4 import BeautifulSoup\n",
    "\n",
    "# URLJoin and Parse are both useful tools for manipulating URLS\n",
    "from urllib.parse import urljoin, urlparse\n",
    "\n",
    "# Optional imports incase you are getting blocked by google\n",
    "# import time\n",
    "# import random"
   ]
  },
  {
   "cell_type": "markdown",
   "id": "a67b72d3-8bd4-47df-b43e-6138fdb0fb47",
   "metadata": {},
   "source": [
    "Looping and parsing through hundreds of web pages really has a unique way of setting off google's anti-scraper detection.\n",
    "There's a few ways to get around this. I added a useragent so my requests look more 'Human'"
   ]
  },
  {
   "cell_type": "code",
   "execution_count": 2,
   "id": "5bea1221-0e29-4535-afa5-bdcd71041e04",
   "metadata": {},
   "outputs": [],
   "source": [
    "# Tricks the webpage into thinking i'm just an innocent chrome user\n",
    "headers = {'User-Agent': 'Mozilla/5.0 (Windows NT 10.0; Win64; x64) AppleWebKit/537.36 (KHTML, like Gecko) Chrome/111.0.0.0 Safari/537.36'}"
   ]
  },
  {
   "cell_type": "markdown",
   "id": "a2448484-2261-4b02-aa2c-171b0b62d07d",
   "metadata": {},
   "source": [
    "Great. Now that we have our disguise, let's get some functions set up for processing the web pages."
   ]
  },
  {
   "cell_type": "code",
   "execution_count": 3,
   "id": "8766d79d-4551-4491-a6ed-2e0f9a4b599f",
   "metadata": {},
   "outputs": [],
   "source": [
    "# Provide the name for the text file. \"Party A v. Party B.txt\". Super nice and readable\n",
    "def SimplifyCaseTitle(case_title):\n",
    "    simplified_title = re.sub(r',\\s\\d+.*$', '', case_title)\n",
    "    if len(simplified_title) > 128:\n",
    "        return simplified_title[:128-3] + '..'\n",
    "    else:\n",
    "        return simplified_title"
   ]
  },
  {
   "cell_type": "code",
   "execution_count": 4,
   "id": "b22c1d3b-5fec-4921-b85a-f55d33ae84bd",
   "metadata": {},
   "outputs": [],
   "source": [
    "# Remove things like page breaks\n",
    "def RemoveGarbage(DirtyString):\n",
    "    cleaned_text = re.sub(r'\\s+', ' ', DirtyString)\n",
    "    return cleaned_text.strip()"
   ]
  },
  {
   "cell_type": "code",
   "execution_count": 5,
   "id": "10dd1a12-1c6a-40f8-bad7-cc72abd6661d",
   "metadata": {},
   "outputs": [],
   "source": [
    "# Send text to a text document in Output\n",
    "def OutputText(text):\n",
    "    FileName = SimplifyCaseTitle(text[0:300]) + \".txt\"\n",
    "    FileName = FileName.replace(\"\\\\\", \"\")\n",
    "    outputFolderPath = os.path.join(os.getcwd(), 'Output')\n",
    "    if not os.path.exists(outputFolderPath):\n",
    "        os.makedirs(outputFolderPath)\n",
    "    filePath = os.path.join(outputFolderPath, FileName)\n",
    "    with open(filePath, 'w', encoding='utf-8') as file:\n",
    "        file.write(text)"
   ]
  },
  {
   "cell_type": "code",
   "execution_count": 6,
   "id": "e550a335-7b7b-46ea-8b5a-58f0f75ea533",
   "metadata": {},
   "outputs": [],
   "source": [
    "# Takes info like # of pages, search query, and other URL information, and builds a nice URL with it\n",
    "def GenerateBaseURL(SearchQuery, Page):\n",
    "    SearchQuery = SearchQuery.replace(' ', '+')\n",
    "    StartOn = (Page - 1) * 10\n",
    "    return ScholarURL + PreStart + str(StartOn) + PreQuery + SearchQuery + PostQuery"
   ]
  },
  {
   "cell_type": "code",
   "execution_count": 7,
   "id": "64efa681-98ba-4b88-ba7c-7f944f094e95",
   "metadata": {},
   "outputs": [],
   "source": [
    "# Find links on page and put them into a nice little list\n",
    "# Great for looking through search results and finding the articles.\n",
    "def GetLinksFromPage(ParsedHTML):\n",
    "    PageLinks = set()\n",
    "    for link in ParsedHTML.find_all('a', href=True):\n",
    "        full_url = urljoin(ScholarURL, link['href']) # HREF is the HTML tag for a link\n",
    "        if urlparse(full_url).netloc == urlparse(ScholarURL).netloc:\n",
    "            lowerURL = full_url.lower()\n",
    "            IsGoodPage = 'scholar_case?case=' in lowerURL # we ONLY want other articles. None of the other links\n",
    "            if IsGoodPage:\n",
    "                PageLinks.add(full_url)\n",
    "    return PageLinks"
   ]
  },
  {
   "cell_type": "markdown",
   "id": "23eabf4c-6277-4998-aa6c-614d8c68a2a8",
   "metadata": {},
   "source": [
    "Now that our functions are up and running, we can start with the main logic.\n",
    "We need a link for our requests library to work with. If you go into the google scholar website, you'll notice the links follow a structure\n",
    "For example:\n",
    "\n",
    "https://scholar.google.com/scholar?start=0&q=Nvidia&hl=en&as_sdt=8000003\n",
    "\n",
    "https://scholar.google.com  |  /scholar?start=  |  0  |  &q=  |  Nvidia  |  &hl=en&as_sdt=8000006\n",
    "\n",
    "All we have to do is replace the number and 'Nvidia' with the # of the page, and the desired search term."
   ]
  },
  {
   "cell_type": "code",
   "execution_count": 8,
   "id": "dcb9d843-dc6a-475f-ba9b-6a32a45b9142",
   "metadata": {},
   "outputs": [],
   "source": [
    "# Parts of the URL we will be manipulating.\n",
    "ScholarURL = \"https://scholar.google.com\"\n",
    "PreStart   = \"/scholar?start=\"\n",
    "PreQuery   = \"&q=\"\n",
    "PostQuery  = \"&hl=en&as_sdt=8000006\""
   ]
  },
  {
   "cell_type": "markdown",
   "id": "076c1f98-a70b-46e3-8811-1e2de6275e2c",
   "metadata": {},
   "source": [
    "Now we can choose our search topic, and the number of pages we want to search."
   ]
  },
  {
   "cell_type": "code",
   "execution_count": 9,
   "id": "fe0a2320-0c95-4268-9cda-17e622461258",
   "metadata": {},
   "outputs": [],
   "source": [
    "# What you're searching for on the website\n",
    "SearchQuery = \"SpaceX\"\n",
    "\n",
    "# How many pages to parse? 1 page is 10 text documents.\n",
    "HowManyPagesToParse = 2"
   ]
  },
  {
   "cell_type": "markdown",
   "id": "9784400d-55f7-45fd-a097-ebf9ba7d51f6",
   "metadata": {},
   "source": [
    "Great. We have all the pieces of the puzzle. Let's start scraping."
   ]
  },
  {
   "cell_type": "code",
   "execution_count": 10,
   "id": "e36be853-c4fe-4441-8d8a-f6e88d2f2dde",
   "metadata": {},
   "outputs": [
    {
     "name": "stdout",
     "output_type": "stream",
     "text": [
      "BASE URL: https://scholar.google.com/scholar?start=0&q=SpaceX&hl=en&as_sdt=8000006\n",
      "(1/20) Phoenix Mechanical Pipeline, Inc. v. Space Exploration Technologies Corp..txt\n",
      "(2/20) McMillan v. HOLSTROM, BLOCK & PARKE, APLC, Cal: Court of Appeal.txt\n",
      "(3/20) TWITTER, INC. v. MUSK, Del: Court of Chancery 2022 TWITTER, INC., Plaintiff and Counterclaim-Defendant, v. ELON R. MUSK, X HO...txt\n",
      "(4/20) Little v. Washington Metropolitan Area Transit Authority, Dist. Court, Dist. of Columbia 2017 ERICK LITTLE, et al., Plaintiff...txt\n",
      "(5/20) Viasat, Inc. v. FEDERAL COMMUNICATIONS COM'N.txt\n",
      "(6/20) In re Tesla, Inc. Securities Litigation.txt\n",
      "(7/20) CUHACI v. KOURI GROUP, LP, Dist. Court, SD Florida 2020 MARK CUHACI, Plaintiff, v. KOURI GROUP, LP, et al., Defendants. Unite...txt\n",
      "(8/20) CUHACI v. KOURI GROUP, LP, Dist. Court, SD Florida 2021 MARK CUHACI, Plaintiff, v. KOURI GROUP, LP, et al., Defendants. Unite...txt\n",
      "(9/20) Motor Vehicle Mfrs. Assn. of United States, Inc. v. State Farm Mut. Automobile Ins. Co..txt\n",
      "(10/20) Juarez v. PRECISION VALVE & AUTOMATION, INC., Dist. Court, CD California 2018 RUBEN JUAREZ; and ISELA HERNANDEZ Plaintiffs, v...txt\n",
      "BASE URL: https://scholar.google.com/scholar?start=10&q=SpaceX&hl=en&as_sdt=8000006\n",
      "(11/20) Cuhaci v. KOURI GROUP, LP.txt\n",
      "(12/20) SPACE EXPLORATION TECHNOLOGIES CORP. v. US, Court of Federal Claims 2015 SPACE EXPLORATION TECHNOLOGIES CORP., v. THE UNITED ...txt\n",
      "(13/20) Teasley v. SPACE EXPLORATION TECHNOLOGIES CORPORATION, Cal: Court of Appeal.txt\n",
      "(14/20) IN RE SPACE EXPLORATION TECHNOLOGIES, CORPORATION, Court of Appeals.txt\n",
      "(15/20) IN RE TESLA INC., SECURITIES LITIGATION, Dist. Court, ND California 2023 IN RE TESLA INC., SECURITIES LITIGATION. United Stat...txt\n",
      "(16/20) MD Helicopters Inc. v. US.txt\n",
      "(17/20) VIASAT, INC. v. FEDERAL COMMUNICATIONS COMMISSION, Court of Appeals, Dist. of Columbia Circuit 2022 VIASAT, INC., Appellant, ...txt\n",
      "(18/20) IN RE HELLER EHRMAN LLP, Bankr. Court, ND California 2024 In re HELLER EHRMAN LLP, Chapter 11, Debtor(s). MICHAEL BURKART, CH...txt\n"
     ]
    }
   ],
   "source": [
    "# This is how many documents we will be copying.\n",
    "TotalDocuments = 10 * HowManyPagesToParse\n",
    "\n",
    "\n",
    "CurrentDocument = 1\n",
    "for i in range(HowManyPagesToParse):\n",
    "    # Go through the search results and find every individual case.\n",
    "    ParseTestURL = GenerateBaseURL(SearchQuery, i + 1)\n",
    "    BaseSearchPage = requests.get(ParseTestURL, headers=headers)\n",
    "    BaseSearchParse = BeautifulSoup(BaseSearchPage.text, 'html.parser')\n",
    "    print(\"BASE URL: \" + ParseTestURL)\n",
    "    URLS = GetLinksFromPage(BaseSearchParse)\n",
    "\n",
    "    \n",
    "    for url in URLS:\n",
    "        # Optional waiting period to avoid getting your IP blocked by scraping detectors.\n",
    "        # time.sleep(random.randint(4, 8))\n",
    "        \n",
    "        # Go through every link on the search results, get text, and dump it into a file in the 'Output' folder\n",
    "        Requested = requests.get(url, headers=headers)\n",
    "        Parsed = BeautifulSoup(Requested.text, 'html.parser')\n",
    "        for ScriptOrStyle in Parsed([\"script\", \"style\"]):\n",
    "            ScriptOrStyle.decompose()\n",
    "        TextFragments = [Element.get_text() for Element in Parsed.find_all(['p', 'h1', 'h2', 'h3', 'h4', 'h5', 'h6'])]\n",
    "        CleanText = ' '.join(TextFragment.strip() for TextFragment in TextFragments)\n",
    "        CleanText = RemoveGarbage(CleanText)\n",
    "        print(\"(\" + str(CurrentDocument) + \"/\" + str(TotalDocuments) + \") \" + SimplifyCaseTitle(CleanText[0:300]) + \".txt\")\n",
    "        OutputText(CleanText)\n",
    "        CurrentDocument += 1"
   ]
  },
  {
   "cell_type": "markdown",
   "id": "8b469f38-e1ff-432b-b097-3330510c8c66",
   "metadata": {},
   "source": [
    "You may notice that this works very well for the first ~4 pages. After that, it stops getting the pages. Why?\n",
    "Well. Google is onto us, and they've blocked our IP. Bummer.\n",
    "My admittedly unscientific solution to this problem was to just use a VPN to switch my IP to a different location, and repeat the process.\n",
    "If you don't have access to such luxuries, you could add a\n",
    "\n",
    "time.sleep(random.randint(4, 8))\n",
    "\n",
    "between each URL, so you aren't hitting the servers as hard."
   ]
  },
  {
   "cell_type": "markdown",
   "id": "38d2b920-03a5-43c6-baa1-2ae316548a72",
   "metadata": {},
   "source": [
    "---------------------------------------------------------------------------------------------\n",
    "Aside from that, we now have hundreds of court cases at our fingertips for data analysis.\n",
    "There's so much we can do with this that I couldn't possibly list it all in a jupyter notebook.\n",
    "Let's start with something basic like a document-term-matrix. We'll see what terms appear and how often they appear."
   ]
  },
  {
   "cell_type": "code",
   "execution_count": 11,
   "id": "649a131d-e74c-487f-acc3-c73914fda98e",
   "metadata": {},
   "outputs": [],
   "source": [
    "# Let's start with a few needed imports.\n",
    "\n",
    "import pandas as pd\n",
    "from sklearn.feature_extraction.text import CountVectorizer\n",
    "from nltk.corpus import stopwords\n",
    "from nltk.stem import PorterStemmer\n",
    "import string\n",
    "import nltk"
   ]
  },
  {
   "cell_type": "code",
   "execution_count": 12,
   "id": "a3edf9a7-e1a1-43ba-b6ff-40fc97f489c5",
   "metadata": {},
   "outputs": [],
   "source": [
    "# Function to preprocess text\n",
    "def PreprocessText(Text):\n",
    "    Text = Text.lower()\n",
    "    Text = Text.translate(str.maketrans('', '', string.punctuation))\n",
    "    Tokens = Text.split()\n",
    "    StopWords = set(stopwords.words('english'))\n",
    "    Tokens = [Word for Word in Tokens if Word not in StopWords]\n",
    "    Stemmer = PorterStemmer()\n",
    "    Tokens = [Stemmer.stem(Word) for Word in Tokens]\n",
    "    PreprocessedText = ' '.join(Tokens)\n",
    "    return PreprocessedText"
   ]
  },
  {
   "cell_type": "code",
   "execution_count": 13,
   "id": "dbaaab86-ad03-4fc7-8783-ee919b40c215",
   "metadata": {},
   "outputs": [],
   "source": [
    "# Function to create Document-Term Matrix\n",
    "def CreateDocumentTermMatrix(DirectoryPath):\n",
    "    Documents = []\n",
    "    FileNames = []\n",
    "    \n",
    "    for FileName in os.listdir(DirectoryPath):\n",
    "        if FileName.endswith('.txt'):\n",
    "            FilePath = os.path.join(DirectoryPath, FileName)\n",
    "            with open(FilePath, 'r', encoding='utf-8') as File:\n",
    "                Text = File.read()\n",
    "                PreprocessedText = PreprocessText(Text)\n",
    "                Documents.append(PreprocessedText)\n",
    "                FileNames.append(FileName)\n",
    "    \n",
    "    Vectorizer = CountVectorizer()\n",
    "    DTMatrix = Vectorizer.fit_transform(Documents)\n",
    "    DTMDataFrame = pd.DataFrame(DTMatrix.toarray(), index=FileNames, columns=Vectorizer.get_feature_names_out())\n",
    "    \n",
    "    return DTMDataFrame"
   ]
  },
  {
   "cell_type": "code",
   "execution_count": 14,
   "id": "2ae8f4f9-acde-4b3b-9f56-c5025a23c38a",
   "metadata": {},
   "outputs": [],
   "source": [
    "\n",
    "# Function to print the most common words\n",
    "def PrintMostCommonWords(DTMDataFrame, NumberOfWords=10):\n",
    "    WordSums = DTMDataFrame.sum(axis=0)\n",
    "    SortedWords = WordSums.sort_values(ascending=False)\n",
    "    \n",
    "    # Print the most common words\n",
    "    print(f\"Top {NumberOfWords} most common words:\")\n",
    "    for Word, Frequency in SortedWords.head(NumberOfWords).iteritems():\n",
    "        print(f\"{Word}: {Frequency}\")"
   ]
  },
  {
   "cell_type": "code",
   "execution_count": 15,
   "id": "319182da-dd4d-4501-8623-c9cc91094498",
   "metadata": {},
   "outputs": [],
   "source": [
    "# We'll use this to create plots to show off information\n",
    "import matplotlib.pyplot as plt\n",
    "\n",
    "DirectoryPath = 'Output'  # Update this if your folder is elsewhere\n",
    "DTM = CreateDocumentTermMatrix(DirectoryPath)"
   ]
  },
  {
   "cell_type": "code",
   "execution_count": 16,
   "id": "78aabf64-8e56-4f92-bbe0-3b610e856ca5",
   "metadata": {},
   "outputs": [
    {
     "data": {
      "image/png": "[encoded data removed]",
      "text/plain": [
       "<Figure size 1000x600 with 1 Axes>"
      ]
     },
     "metadata": {},
     "output_type": "display_data"
    }
   ],
   "source": [
    "word_frequencies = DTM.sum(axis=0).sort_values(ascending=False)\n",
    "\n",
    "# Plot the top N most frequent words\n",
    "top_n = 20\n",
    "word_frequencies.head(top_n).plot(kind='bar', figsize=(10, 6))\n",
    "plt.title(f'Top {top_n} Most Frequent Words')\n",
    "plt.ylabel('Frequency')\n",
    "plt.xlabel('Words')\n",
    "plt.xticks(rotation=45)\n",
    "plt.show()"
   ]
  },
  {
   "cell_type": "markdown",
   "id": "867e3c73-8e02-4521-90bb-4ef5cd848045",
   "metadata": {},
   "source": [
    "Absolutely beautiful. Just like I thought, words like 'court' 'state' 'plaintiff' are at the front. This makes sense because courts use a very standardized set of language."
   ]
  },
  {
   "cell_type": "code",
   "execution_count": null,
   "id": "448a3a76-e591-4e24-a78f-34a8cff0870b",
   "metadata": {},
   "outputs": [],
   "source": []
  },
  {
   "cell_type": "code",
   "execution_count": null,
   "id": "69a07574-9f89-47b9-825d-89f469324bd8",
   "metadata": {},
   "outputs": [],
   "source": []
  },
  {
   "cell_type": "code",
   "execution_count": null,
   "id": "4735c903-5883-405e-9007-1c773587e78a",
   "metadata": {},
   "outputs": [],
   "source": []
  },
  {
   "cell_type": "code",
   "execution_count": null,
   "id": "a446c7b9-e4ff-4343-a8db-076875a1dc94",
   "metadata": {},
   "outputs": [],
   "source": []
  }
 ],
 "metadata": {
  "kernelspec": {
   "display_name": "Python 3 (ipykernel)",
   "language": "python",
   "name": "python3"
  },
  "language_info": {
   "codemirror_mode": {
    "name": "ipython",
    "version": 3
   },
   "file_extension": ".py",
   "mimetype": "text/x-python",
   "name": "python",
   "nbconvert_exporter": "python",
   "pygments_lexer": "ipython3",
   "version": "3.11.5"
  }
 },
 "nbformat": 4,
 "nbformat_minor": 5
}
